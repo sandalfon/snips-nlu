{
 "cells": [
  {
   "cell_type": "markdown",
   "metadata": {
    "slideshow": {
     "slide_type": "slide"
    }
   },
   "source": [
    "# Tuto : https://github.com/snipsco/snips-nlu"
   ]
  },
  {
   "cell_type": "markdown",
   "metadata": {
    "slideshow": {
     "slide_type": "slide"
    }
   },
   "source": [
    "## Import"
   ]
  },
  {
   "cell_type": "code",
   "execution_count": null,
   "metadata": {
    "slideshow": {
     "slide_type": "subslide"
    }
   },
   "outputs": [],
   "source": [
    "import io\n",
    "import json\n",
    "\n",
    "from snips_nlu import SnipsNLUEngine, load_resources\n",
    "from snips_nlu.default_configs import CONFIG_EN"
   ]
  },
  {
   "cell_type": "markdown",
   "metadata": {
    "slideshow": {
     "slide_type": "subslide"
    }
   },
   "source": [
    "## DataSet"
   ]
  },
  {
   "cell_type": "code",
   "execution_count": null,
   "metadata": {
    "slideshow": {
     "slide_type": "subslide"
    }
   },
   "outputs": [],
   "source": [
    "with io.open(\"..\\data\\sample_dataset.json\") as f:\n",
    "    sample_dataset = json.load(f)"
   ]
  },
  {
   "cell_type": "markdown",
   "metadata": {
    "slideshow": {
     "slide_type": "subslide"
    }
   },
   "source": [
    "## Init nlu"
   ]
  },
  {
   "cell_type": "code",
   "execution_count": null,
   "metadata": {
    "slideshow": {
     "slide_type": "subslide"
    }
   },
   "outputs": [],
   "source": [
    "load_resources(\"en\")\n",
    "nlu_engine = SnipsNLUEngine(config=CONFIG_EN)\n",
    "nlu_engine.fit(sample_dataset)"
   ]
  },
  {
   "cell_type": "markdown",
   "metadata": {
    "slideshow": {
     "slide_type": "subslide"
    }
   },
   "source": [
    "## Code"
   ]
  },
  {
   "cell_type": "code",
   "execution_count": 8,
   "metadata": {
    "slideshow": {
     "slide_type": "subslide"
    }
   },
   "outputs": [
    {
     "name": "stdout",
     "output_type": "stream",
     "text": [
      "{\n",
      "  \"input\": \"What will be the weather in San Francisco next week?\",\n",
      "  \"intent\": {\n",
      "    \"intentName\": \"sampleGetWeather\",\n",
      "    \"probability\": 0.7146172472174469\n",
      "  },\n",
      "  \"slots\": [\n",
      "    {\n",
      "      \"range\": {\n",
      "        \"start\": 28,\n",
      "        \"end\": 41\n",
      "      },\n",
      "      \"rawValue\": \"San Francisco\",\n",
      "      \"value\": {\n",
      "        \"kind\": \"Custom\",\n",
      "        \"value\": \"San Francisco\"\n",
      "      },\n",
      "      \"entity\": \"location\",\n",
      "      \"slotName\": \"weatherLocation\"\n",
      "    },\n",
      "    {\n",
      "      \"range\": {\n",
      "        \"start\": 42,\n",
      "        \"end\": 51\n",
      "      },\n",
      "      \"rawValue\": \"next week\",\n",
      "      \"value\": {\n",
      "        \"kind\": \"InstantTime\",\n",
      "        \"value\": \"2018-07-02 00:00:00 +02:00\",\n",
      "        \"grain\": \"Week\",\n",
      "        \"precision\": \"Exact\"\n",
      "      },\n",
      "      \"entity\": \"snips/datetime\",\n",
      "      \"slotName\": \"weatherDate\"\n",
      "    }\n",
      "  ]\n",
      "}\n"
     ]
    }
   ],
   "source": [
    "text = \"What will be the weather in San Francisco next week?\"\n",
    "parsing = nlu_engine.parse(text)\n",
    "print(json.dumps(parsing, indent=2))"
   ]
  },
  {
   "cell_type": "code",
   "execution_count": null,
   "metadata": {},
   "outputs": [],
   "source": []
  },
  {
   "cell_type": "code",
   "execution_count": null,
   "metadata": {},
   "outputs": [],
   "source": []
  },
  {
   "cell_type": "code",
   "execution_count": null,
   "metadata": {},
   "outputs": [],
   "source": []
  }
 ],
 "metadata": {
  "celltoolbar": "Slideshow",
  "kernelspec": {
   "display_name": "Python 3",
   "language": "python",
   "name": "python3"
  },
  "language_info": {
   "codemirror_mode": {
    "name": "ipython",
    "version": 3
   },
   "file_extension": ".py",
   "mimetype": "text/x-python",
   "name": "python",
   "nbconvert_exporter": "python",
   "pygments_lexer": "ipython3",
   "version": "3.6.5"
  }
 },
 "nbformat": 4,
 "nbformat_minor": 2
}
